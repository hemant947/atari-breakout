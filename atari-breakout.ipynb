{
  "nbformat": 4,
  "nbformat_minor": 0,
  "metadata": {
    "colab": {
      "provenance": [],
      "gpuType": "T4"
    },
    "kernelspec": {
      "name": "python3",
      "display_name": "Python 3"
    },
    "language_info": {
      "name": "python"
    },
    "widgets": {
      "application/vnd.jupyter.widget-state+json": {
        "864723d214374665bc3d2cf737800e23": {
          "model_module": "@jupyter-widgets/controls",
          "model_name": "HBoxModel",
          "model_module_version": "1.5.0",
          "state": {
            "_dom_classes": [],
            "_model_module": "@jupyter-widgets/controls",
            "_model_module_version": "1.5.0",
            "_model_name": "HBoxModel",
            "_view_count": null,
            "_view_module": "@jupyter-widgets/controls",
            "_view_module_version": "1.5.0",
            "_view_name": "HBoxView",
            "box_style": "",
            "children": [
              "IPY_MODEL_58539003d6ed4ab3ba8fb76395926f9d",
              "IPY_MODEL_4ad15eb016634d61a1ee62ae2525029c",
              "IPY_MODEL_40def3bf66224138846ad8cd2a39cd26"
            ],
            "layout": "IPY_MODEL_d451487e663e485ab2b4da547918cc9e"
          }
        },
        "58539003d6ed4ab3ba8fb76395926f9d": {
          "model_module": "@jupyter-widgets/controls",
          "model_name": "HTMLModel",
          "model_module_version": "1.5.0",
          "state": {
            "_dom_classes": [],
            "_model_module": "@jupyter-widgets/controls",
            "_model_module_version": "1.5.0",
            "_model_name": "HTMLModel",
            "_view_count": null,
            "_view_module": "@jupyter-widgets/controls",
            "_view_module_version": "1.5.0",
            "_view_name": "HTMLView",
            "description": "",
            "description_tooltip": null,
            "layout": "IPY_MODEL_a31dfd8ce0b5496ba80a52c555d3d0dc",
            "placeholder": "​",
            "style": "IPY_MODEL_9e15df964db140408b2a683062d96dd8",
            "value": "100%"
          }
        },
        "4ad15eb016634d61a1ee62ae2525029c": {
          "model_module": "@jupyter-widgets/controls",
          "model_name": "FloatProgressModel",
          "model_module_version": "1.5.0",
          "state": {
            "_dom_classes": [],
            "_model_module": "@jupyter-widgets/controls",
            "_model_module_version": "1.5.0",
            "_model_name": "FloatProgressModel",
            "_view_count": null,
            "_view_module": "@jupyter-widgets/controls",
            "_view_module_version": "1.5.0",
            "_view_name": "ProgressView",
            "bar_style": "success",
            "description": "",
            "description_tooltip": null,
            "layout": "IPY_MODEL_1b3fc77021e84e3db07fdf0523c4c2f4",
            "max": 100,
            "min": 0,
            "orientation": "horizontal",
            "style": "IPY_MODEL_6ff8b208cc974fe7ab7b8c2a47b37d99",
            "value": 100
          }
        },
        "40def3bf66224138846ad8cd2a39cd26": {
          "model_module": "@jupyter-widgets/controls",
          "model_name": "HTMLModel",
          "model_module_version": "1.5.0",
          "state": {
            "_dom_classes": [],
            "_model_module": "@jupyter-widgets/controls",
            "_model_module_version": "1.5.0",
            "_model_name": "HTMLModel",
            "_view_count": null,
            "_view_module": "@jupyter-widgets/controls",
            "_view_module_version": "1.5.0",
            "_view_name": "HTMLView",
            "description": "",
            "description_tooltip": null,
            "layout": "IPY_MODEL_27c172b34ff54c399e69f1db74d72a7f",
            "placeholder": "​",
            "style": "IPY_MODEL_00e3055d8a9c41dbb78e2a047763292d",
            "value": " 100/100 [13:27&lt;00:00,  8.37s/it]"
          }
        },
        "d451487e663e485ab2b4da547918cc9e": {
          "model_module": "@jupyter-widgets/base",
          "model_name": "LayoutModel",
          "model_module_version": "1.2.0",
          "state": {
            "_model_module": "@jupyter-widgets/base",
            "_model_module_version": "1.2.0",
            "_model_name": "LayoutModel",
            "_view_count": null,
            "_view_module": "@jupyter-widgets/base",
            "_view_module_version": "1.2.0",
            "_view_name": "LayoutView",
            "align_content": null,
            "align_items": null,
            "align_self": null,
            "border": null,
            "bottom": null,
            "display": null,
            "flex": null,
            "flex_flow": null,
            "grid_area": null,
            "grid_auto_columns": null,
            "grid_auto_flow": null,
            "grid_auto_rows": null,
            "grid_column": null,
            "grid_gap": null,
            "grid_row": null,
            "grid_template_areas": null,
            "grid_template_columns": null,
            "grid_template_rows": null,
            "height": null,
            "justify_content": null,
            "justify_items": null,
            "left": null,
            "margin": null,
            "max_height": null,
            "max_width": null,
            "min_height": null,
            "min_width": null,
            "object_fit": null,
            "object_position": null,
            "order": null,
            "overflow": null,
            "overflow_x": null,
            "overflow_y": null,
            "padding": null,
            "right": null,
            "top": null,
            "visibility": null,
            "width": null
          }
        },
        "a31dfd8ce0b5496ba80a52c555d3d0dc": {
          "model_module": "@jupyter-widgets/base",
          "model_name": "LayoutModel",
          "model_module_version": "1.2.0",
          "state": {
            "_model_module": "@jupyter-widgets/base",
            "_model_module_version": "1.2.0",
            "_model_name": "LayoutModel",
            "_view_count": null,
            "_view_module": "@jupyter-widgets/base",
            "_view_module_version": "1.2.0",
            "_view_name": "LayoutView",
            "align_content": null,
            "align_items": null,
            "align_self": null,
            "border": null,
            "bottom": null,
            "display": null,
            "flex": null,
            "flex_flow": null,
            "grid_area": null,
            "grid_auto_columns": null,
            "grid_auto_flow": null,
            "grid_auto_rows": null,
            "grid_column": null,
            "grid_gap": null,
            "grid_row": null,
            "grid_template_areas": null,
            "grid_template_columns": null,
            "grid_template_rows": null,
            "height": null,
            "justify_content": null,
            "justify_items": null,
            "left": null,
            "margin": null,
            "max_height": null,
            "max_width": null,
            "min_height": null,
            "min_width": null,
            "object_fit": null,
            "object_position": null,
            "order": null,
            "overflow": null,
            "overflow_x": null,
            "overflow_y": null,
            "padding": null,
            "right": null,
            "top": null,
            "visibility": null,
            "width": null
          }
        },
        "9e15df964db140408b2a683062d96dd8": {
          "model_module": "@jupyter-widgets/controls",
          "model_name": "DescriptionStyleModel",
          "model_module_version": "1.5.0",
          "state": {
            "_model_module": "@jupyter-widgets/controls",
            "_model_module_version": "1.5.0",
            "_model_name": "DescriptionStyleModel",
            "_view_count": null,
            "_view_module": "@jupyter-widgets/base",
            "_view_module_version": "1.2.0",
            "_view_name": "StyleView",
            "description_width": ""
          }
        },
        "1b3fc77021e84e3db07fdf0523c4c2f4": {
          "model_module": "@jupyter-widgets/base",
          "model_name": "LayoutModel",
          "model_module_version": "1.2.0",
          "state": {
            "_model_module": "@jupyter-widgets/base",
            "_model_module_version": "1.2.0",
            "_model_name": "LayoutModel",
            "_view_count": null,
            "_view_module": "@jupyter-widgets/base",
            "_view_module_version": "1.2.0",
            "_view_name": "LayoutView",
            "align_content": null,
            "align_items": null,
            "align_self": null,
            "border": null,
            "bottom": null,
            "display": null,
            "flex": null,
            "flex_flow": null,
            "grid_area": null,
            "grid_auto_columns": null,
            "grid_auto_flow": null,
            "grid_auto_rows": null,
            "grid_column": null,
            "grid_gap": null,
            "grid_row": null,
            "grid_template_areas": null,
            "grid_template_columns": null,
            "grid_template_rows": null,
            "height": null,
            "justify_content": null,
            "justify_items": null,
            "left": null,
            "margin": null,
            "max_height": null,
            "max_width": null,
            "min_height": null,
            "min_width": null,
            "object_fit": null,
            "object_position": null,
            "order": null,
            "overflow": null,
            "overflow_x": null,
            "overflow_y": null,
            "padding": null,
            "right": null,
            "top": null,
            "visibility": null,
            "width": null
          }
        },
        "6ff8b208cc974fe7ab7b8c2a47b37d99": {
          "model_module": "@jupyter-widgets/controls",
          "model_name": "ProgressStyleModel",
          "model_module_version": "1.5.0",
          "state": {
            "_model_module": "@jupyter-widgets/controls",
            "_model_module_version": "1.5.0",
            "_model_name": "ProgressStyleModel",
            "_view_count": null,
            "_view_module": "@jupyter-widgets/base",
            "_view_module_version": "1.2.0",
            "_view_name": "StyleView",
            "bar_color": null,
            "description_width": ""
          }
        },
        "27c172b34ff54c399e69f1db74d72a7f": {
          "model_module": "@jupyter-widgets/base",
          "model_name": "LayoutModel",
          "model_module_version": "1.2.0",
          "state": {
            "_model_module": "@jupyter-widgets/base",
            "_model_module_version": "1.2.0",
            "_model_name": "LayoutModel",
            "_view_count": null,
            "_view_module": "@jupyter-widgets/base",
            "_view_module_version": "1.2.0",
            "_view_name": "LayoutView",
            "align_content": null,
            "align_items": null,
            "align_self": null,
            "border": null,
            "bottom": null,
            "display": null,
            "flex": null,
            "flex_flow": null,
            "grid_area": null,
            "grid_auto_columns": null,
            "grid_auto_flow": null,
            "grid_auto_rows": null,
            "grid_column": null,
            "grid_gap": null,
            "grid_row": null,
            "grid_template_areas": null,
            "grid_template_columns": null,
            "grid_template_rows": null,
            "height": null,
            "justify_content": null,
            "justify_items": null,
            "left": null,
            "margin": null,
            "max_height": null,
            "max_width": null,
            "min_height": null,
            "min_width": null,
            "object_fit": null,
            "object_position": null,
            "order": null,
            "overflow": null,
            "overflow_x": null,
            "overflow_y": null,
            "padding": null,
            "right": null,
            "top": null,
            "visibility": null,
            "width": null
          }
        },
        "00e3055d8a9c41dbb78e2a047763292d": {
          "model_module": "@jupyter-widgets/controls",
          "model_name": "DescriptionStyleModel",
          "model_module_version": "1.5.0",
          "state": {
            "_model_module": "@jupyter-widgets/controls",
            "_model_module_version": "1.5.0",
            "_model_name": "DescriptionStyleModel",
            "_view_count": null,
            "_view_module": "@jupyter-widgets/base",
            "_view_module_version": "1.2.0",
            "_view_name": "StyleView",
            "description_width": ""
          }
        }
      }
    },
    "accelerator": "GPU",
    "gpuClass": "standard"
  },
  "cells": [
    {
      "cell_type": "code",
      "source": [
        "!pip3 install gymnasium[atari]"
      ],
      "metadata": {
        "colab": {
          "base_uri": "https://localhost:8080/"
        },
        "id": "7rqVl08RXNeh",
        "outputId": "702518ce-fd95-403a-ceb1-9f0158d19eea"
      },
      "execution_count": 1,
      "outputs": [
        {
          "output_type": "stream",
          "name": "stdout",
          "text": [
            "Looking in indexes: https://pypi.org/simple, https://us-python.pkg.dev/colab-wheels/public/simple/\n",
            "Collecting gymnasium[atari]\n",
            "  Downloading gymnasium-0.28.1-py3-none-any.whl (925 kB)\n",
            "\u001b[2K     \u001b[90m━━━━━━━━━━━━━━━━━━━━━━━━━━━━━━━━━━━━━━\u001b[0m \u001b[32m925.5/925.5 kB\u001b[0m \u001b[31m13.6 MB/s\u001b[0m eta \u001b[36m0:00:00\u001b[0m\n",
            "\u001b[?25hRequirement already satisfied: numpy>=1.21.0 in /usr/local/lib/python3.10/dist-packages (from gymnasium[atari]) (1.22.4)\n",
            "Collecting jax-jumpy>=1.0.0 (from gymnasium[atari])\n",
            "  Downloading jax_jumpy-1.0.0-py3-none-any.whl (20 kB)\n",
            "Requirement already satisfied: cloudpickle>=1.2.0 in /usr/local/lib/python3.10/dist-packages (from gymnasium[atari]) (2.2.1)\n",
            "Requirement already satisfied: typing-extensions>=4.3.0 in /usr/local/lib/python3.10/dist-packages (from gymnasium[atari]) (4.5.0)\n",
            "Collecting farama-notifications>=0.0.1 (from gymnasium[atari])\n",
            "  Downloading Farama_Notifications-0.0.4-py3-none-any.whl (2.5 kB)\n",
            "Collecting shimmy[atari]<1.0,>=0.1.0 (from gymnasium[atari])\n",
            "  Downloading Shimmy-0.2.1-py3-none-any.whl (25 kB)\n",
            "Collecting ale-py~=0.8.1 (from shimmy[atari]<1.0,>=0.1.0->gymnasium[atari])\n",
            "  Downloading ale_py-0.8.1-cp310-cp310-manylinux_2_17_x86_64.manylinux2014_x86_64.whl (1.7 MB)\n",
            "\u001b[2K     \u001b[90m━━━━━━━━━━━━━━━━━━━━━━━━━━━━━━━━━━━━━━━━\u001b[0m \u001b[32m1.7/1.7 MB\u001b[0m \u001b[31m46.3 MB/s\u001b[0m eta \u001b[36m0:00:00\u001b[0m\n",
            "\u001b[?25hRequirement already satisfied: importlib-resources in /usr/local/lib/python3.10/dist-packages (from ale-py~=0.8.1->shimmy[atari]<1.0,>=0.1.0->gymnasium[atari]) (5.12.0)\n",
            "Installing collected packages: farama-notifications, jax-jumpy, ale-py, gymnasium, shimmy\n",
            "Successfully installed ale-py-0.8.1 farama-notifications-0.0.4 gymnasium-0.28.1 jax-jumpy-1.0.0 shimmy-0.2.1\n"
          ]
        }
      ]
    },
    {
      "cell_type": "code",
      "source": [
        "!pip install autorom[accept-rom-license]"
      ],
      "metadata": {
        "colab": {
          "base_uri": "https://localhost:8080/"
        },
        "id": "HBWoSRa-XPZ-",
        "outputId": "48eb8077-a559-4b34-c676-66f1cccb0300"
      },
      "execution_count": 2,
      "outputs": [
        {
          "output_type": "stream",
          "name": "stdout",
          "text": [
            "Looking in indexes: https://pypi.org/simple, https://us-python.pkg.dev/colab-wheels/public/simple/\n",
            "Collecting autorom[accept-rom-license]\n",
            "  Downloading AutoROM-0.6.1-py3-none-any.whl (9.4 kB)\n",
            "Requirement already satisfied: click in /usr/local/lib/python3.10/dist-packages (from autorom[accept-rom-license]) (8.1.3)\n",
            "Requirement already satisfied: requests in /usr/local/lib/python3.10/dist-packages (from autorom[accept-rom-license]) (2.27.1)\n",
            "Collecting AutoROM.accept-rom-license (from autorom[accept-rom-license])\n",
            "  Downloading AutoROM.accept-rom-license-0.6.1.tar.gz (434 kB)\n",
            "\u001b[2K     \u001b[90m━━━━━━━━━━━━━━━━━━━━━━━━━━━━━━━━━━━━━━━\u001b[0m \u001b[32m434.7/434.7 kB\u001b[0m \u001b[31m7.6 MB/s\u001b[0m eta \u001b[36m0:00:00\u001b[0m\n",
            "\u001b[?25h  Installing build dependencies ... \u001b[?25l\u001b[?25hdone\n",
            "  Getting requirements to build wheel ... \u001b[?25l\u001b[?25hdone\n",
            "  Preparing metadata (pyproject.toml) ... \u001b[?25l\u001b[?25hdone\n",
            "Requirement already satisfied: urllib3<1.27,>=1.21.1 in /usr/local/lib/python3.10/dist-packages (from requests->autorom[accept-rom-license]) (1.26.15)\n",
            "Requirement already satisfied: certifi>=2017.4.17 in /usr/local/lib/python3.10/dist-packages (from requests->autorom[accept-rom-license]) (2022.12.7)\n",
            "Requirement already satisfied: charset-normalizer~=2.0.0 in /usr/local/lib/python3.10/dist-packages (from requests->autorom[accept-rom-license]) (2.0.12)\n",
            "Requirement already satisfied: idna<4,>=2.5 in /usr/local/lib/python3.10/dist-packages (from requests->autorom[accept-rom-license]) (3.4)\n",
            "Building wheels for collected packages: AutoROM.accept-rom-license\n",
            "  Building wheel for AutoROM.accept-rom-license (pyproject.toml) ... \u001b[?25l\u001b[?25hdone\n",
            "  Created wheel for AutoROM.accept-rom-license: filename=AutoROM.accept_rom_license-0.6.1-py3-none-any.whl size=446660 sha256=bc939b61531da6c961fd4471c4699c85c30a384210b94fecca7f7a0c0eb7794c\n",
            "  Stored in directory: /root/.cache/pip/wheels/6b/1b/ef/a43ff1a2f1736d5711faa1ba4c1f61be1131b8899e6a057811\n",
            "Successfully built AutoROM.accept-rom-license\n",
            "Installing collected packages: AutoROM.accept-rom-license, autorom\n",
            "Successfully installed AutoROM.accept-rom-license-0.6.1 autorom-0.6.1\n"
          ]
        }
      ]
    },
    {
      "cell_type": "code",
      "source": [
        "import gymnasium as gym\n",
        "import math\n",
        "import numpy as np\n",
        "import matplotlib\n",
        "import matplotlib.pyplot as plt\n",
        "from collections import namedtuple, deque\n",
        "import random\n",
        "from itertools import count\n",
        "import cv2\n",
        "from itertools import count\n",
        "from tqdm.notebook import tqdm\n",
        "import torch\n",
        "import torch.nn as nn\n",
        "import torch.optim as optim\n",
        "import torch.nn.functional as F\n",
        "import pickle"
      ],
      "metadata": {
        "id": "qwu8P07wXena"
      },
      "execution_count": 3,
      "outputs": []
    },
    {
      "cell_type": "code",
      "source": [
        "class DQN(nn.Module):\n",
        "\n",
        "    def __init__(self, obs_shape, n_actions):\n",
        "        super(DQN, self).__init__()\n",
        "        self.obs_shape = obs_shape\n",
        "        self.num_actions = n_actions\n",
        "        self.conv_layers = nn.Sequential(\n",
        "            nn.Conv2d(4, 16, kernel_size=(8,8), stride=4),\n",
        "            nn.ReLU(),\n",
        "            nn.Conv2d(16, 32, kernel_size=(4,4), stride=2),\n",
        "            nn.ReLU(),\n",
        "        )\n",
        "\n",
        "        # with torch.no_grad():\n",
        "        #   dummy = torch.zeros((1,*obs_shape))\n",
        "        #   x = self.conv_layers(dummy)\n",
        "        #   s = x.shape\n",
        "        #   fc_size = s[1] * s[2] * s[3]\n",
        "\n",
        "        self.fc_layers = nn.Sequential(\n",
        "            nn.Linear(32*9*9, 256),\n",
        "            nn.ReLU(),\n",
        "            nn.Linear(256, n_actions)\n",
        "        )\n",
        "\n",
        "    def forward(self, x):\n",
        "        x = x/255\n",
        "        x = self.conv_layers(x) \n",
        "        x = x.view(x.shape[0],-1)\n",
        "        x = self.fc_layers(x)\n",
        "        return x"
      ],
      "metadata": {
        "id": "gpkYDRCt5P1y",
        "colab": {
          "base_uri": "https://localhost:8080/"
        },
        "outputId": "5fc28815-c00d-4d45-bafc-ce6284ed22af"
      },
      "execution_count": 4,
      "outputs": [
        {
          "output_type": "stream",
          "name": "stderr",
          "text": [
            "/usr/local/lib/python3.10/dist-packages/ipykernel/ipkernel.py:283: DeprecationWarning: `should_run_async` will not call `transform_cell` automatically in the future. Please pass the result to `transformed_cell` argument and any exception that happen during thetransform in `preprocessing_exc_tuple` in IPython 7.17 and above.\n",
            "  and should_run_async(code)\n"
          ]
        }
      ]
    },
    {
      "cell_type": "code",
      "source": [
        "class FrameStackingAndResizingEnv:\n",
        "  def __init__(self, env, w, h, num_stack=4):\n",
        "    self.env = env \n",
        "    self.n = num_stack \n",
        "    self.w = self.h = h \n",
        "    self.buffer = np.zeros((num_stack, h, w), 'uint8') \n",
        "    self.frame = None\n",
        "\n",
        "  def _preprocess_frame(self, frame): \n",
        "    # print('width_height: ',width_height)\n",
        "    # print(frame[0])\n",
        "    # print('image before resize: ',frame)\n",
        "    # print('frame1: ',frame[1])\n",
        "    image = cv2.resize(frame[0], (self.w, self.h)) \n",
        "    # print('image after resize:',image.shape)\n",
        "    image = cv2.cvtColor(image, cv2.COLOR_BGR2GRAY) \n",
        "    #\n",
        "    return image\n",
        "\n",
        "  def _step_preprocess_frame(self, frame): \n",
        "    # print('width_height: ',width_height)\n",
        "    # print(frame[0])\n",
        "    # print('image before resize: ',frame)\n",
        "    # print('frame1: ',frame[1])\n",
        "    image = cv2.resize(frame, (self.w, self.h)) \n",
        "    # print('image with no resize:',image.shape)\n",
        "    image = cv2.cvtColor(image, cv2.COLOR_BGR2GRAY) \n",
        "    #\n",
        "    return image\n",
        "\n",
        "  @property \n",
        "  def observation_space(self): \n",
        "    # gym.spaces.Box() \n",
        "    return np.zeros((self.n, self.h, self.w)) \n",
        "    \n",
        "  @property \n",
        "  def action_space(self): \n",
        "    return self.env.action_space\n",
        "    \n",
        "  def step(self, action):\n",
        "    im, reward, _, done, info = self.env.step(action) \n",
        "    self.frame = im.copy()\n",
        "    # print('step before img preprocess:',im.shape)\n",
        "    im = self._step_preprocess_frame(im) \n",
        "    # print('step after img preprocess:',im.shape)\n",
        "    self.buffer[1:self.n, :, :] = self.buffer[0:self.n-1, :, :] \n",
        "    self.buffer[0, :, :] = im \n",
        "    return self.buffer.copy(), reward, done, info \n",
        "    \n",
        "  def render(self, mode=None):\n",
        "    if mode == 'rgb_array':\n",
        "      return self.frame\n",
        "    return super(FrameStackingAndResizingEnv,self).render()\n",
        "\n",
        "  def reset(self):\n",
        "    im = self.env.reset() \n",
        "    # print('reset before img preprocess: ',im)\n",
        "    im = self._preprocess_frame(im) \n",
        "    # print('reset after img preprocess: ',im.shape)\n",
        "    self.buffer = np.stack([im]*self.n,0) \n",
        "    return self.buffer.copy()\n",
        "    \n",
        "  def render(self, mode): \n",
        "    self.env.render(mode)\n",
        "  "
      ],
      "metadata": {
        "id": "JgaOQ3IDXFBW"
      },
      "execution_count": 5,
      "outputs": []
    },
    {
      "cell_type": "code",
      "source": [
        "class ReplayMemory(object):\n",
        "\n",
        "    def __init__(self, capacity):\n",
        "        self.capacity = capacity\n",
        "        self.buffer = []\n",
        "        \n",
        "\n",
        "    def push(self, state, action, next_state, reward, terminated):\n",
        "        experience = [state, action, next_state, reward, terminated]\n",
        "        self.buffer.append(experience)\n",
        "        if len(self.buffer) > self.capacity:\n",
        "            self.buffer.pop(0)\n",
        "        \n",
        "\n",
        "    def sample(self, batch_size):\n",
        "        return random.sample(self.buffer, batch_size)\n",
        "\n",
        "    def __len__(self):\n",
        "        return len(self.buffer)"
      ],
      "metadata": {
        "id": "lvXPSNuo5RnJ"
      },
      "execution_count": 6,
      "outputs": []
    },
    {
      "cell_type": "code",
      "source": [
        "class DQNAgent():\n",
        "    def __init__(self, n_observations, n_actions, max_epsilon, epsilon_decay, min_epsilon, batch_size, decay_factor, tau, alpha):\n",
        "\n",
        "        # self.device = torch.device('mps:0' if torch.backends.mps.is_available() else 'cpu')\n",
        "        self.device = torch.device(\"cuda\" if torch.cuda.is_available() else \"cpu\")\n",
        "        self.n_actions = n_actions\n",
        "        self.n_observations = n_observations\n",
        "\n",
        "        self.buffer = ReplayMemory(15000)\n",
        "\n",
        "        self.policy_network = DQN(env.observation_space.shape, env.action_space.n).to(device)\n",
        "        self.target_network = DQN(env.observation_space.shape, env.action_space.n).to(device)\n",
        "\n",
        "        self.target_network.load_state_dict(self.policy_network.state_dict())\n",
        "\n",
        "        self.optimizer = optim.AdamW(self.policy_network.parameters(), lr=alpha, amsgrad=True)\n",
        "        self.loss_fn = nn.MSELoss()\n",
        "\n",
        "        self.max_epsilon = max_epsilon\n",
        "        self.min_epsilon = min_epsilon\n",
        "        self.epsilon_decay = epsilon_decay\n",
        "        self.batch_size = batch_size\n",
        "        self.decay_factor = decay_factor\n",
        "        self.tau = tau\n",
        "        self.alpha = alpha\n",
        "        self.count_steps = 0\n",
        "        self.epsilons = []\n",
        "        self.rewards = []\n",
        "\n",
        "\n",
        "    def epsilon_greedy_action(self, env, state, epsilon, shoot):\n",
        "        non_shoot_actions = [0, 2, 3]\n",
        "        random_int = np.random.uniform(0, 1)        \n",
        "        self.count_steps += 1\n",
        "        if shoot:\n",
        "          return torch.tensor([[1]], device=device, dtype=torch.long)\n",
        "        else:\n",
        "          if random_int > epsilon:\n",
        "              with torch.no_grad():\n",
        "                  return self.policy_network(state).max(1)[1].view(1, 1)\n",
        "          else:\n",
        "              return torch.tensor([[random.choice(non_shoot_actions)]], device=self.device, dtype=torch.long)\n",
        "\n",
        "    def train_step(self):\n",
        "        if len(self.buffer) < self.batch_size:\n",
        "            return\n",
        "        transitions = self.buffer.sample(self.batch_size)\n",
        "\n",
        "        states, actions, next_state, rewards, terminated = zip(*transitions)\n",
        "\n",
        "        states = torch.cat(states)\n",
        "        actions = torch.cat(actions)\n",
        "        rewards = torch.cat(rewards)\n",
        "        terminateds = torch.cat(terminated)\n",
        "\n",
        "        # CREATE TENSOR OF ALL EXPERIENCES WHICH DID NOT TERMINATE.\n",
        "        non_final_experiences = []\n",
        "        for d in terminated:\n",
        "            non_final_experiences.append(d != True)\n",
        "        non_final_tensor = torch.tensor(non_final_experiences, dtype=torch.bool)\n",
        "\n",
        "        # GET THE NEXT STATES OF ALL THE EXPERIENCES IN NON_FINAL_EXPERIENCES.\n",
        "        non_final_tensor_next_states = []\n",
        "        for i in range(len(next_state)):\n",
        "            if terminated[i] == 0:\n",
        "                non_final_tensor_next_states.append(next_state[i])\n",
        "        non_final_tensor_next_states = torch.cat(non_final_tensor_next_states)\n",
        "\n",
        "        # GET Q VALUES\n",
        "        state_action_q_values = self.policy_network(states)[torch.arange(states.shape[0]), actions.squeeze(1)]\n",
        "        state_action_q_values = state_action_q_values.unsqueeze(1)\n",
        "\n",
        "        # INITIALISE ARRAY TO STORE Q VALUES\n",
        "        next_state_values = torch.zeros(self.batch_size, device=self.device)\n",
        "\n",
        "        # GET Q VALUES FOR NEXT STATE, BEST ACTION(AS PER PRIMARY NETWORK)\n",
        "        with torch.no_grad():\n",
        "            next_state_values[non_final_tensor] = self.target_network(non_final_tensor_next_states).max(1)[0]\n",
        "        \n",
        "        # GET EXPECTED Q VALUES\n",
        "        expected_state_action_q_values = (next_state_values * self.decay_factor) + rewards\n",
        "\n",
        "        # CALCULATE LOSS \n",
        "        loss = self.loss_fn(state_action_q_values, expected_state_action_q_values.unsqueeze(1))\n",
        "\n",
        "        #clear gradients from previous batch\n",
        "        self.optimizer.zero_grad()\n",
        "\n",
        "        # perform gradient descent on the loss\n",
        "        loss.backward()\n",
        "\n",
        "        # update model parameters\n",
        "        self.optimizer.step()\n",
        "\n",
        "    def train(self, env, num_episodes):\n",
        "        converge_count = 0\n",
        "        frames = []\n",
        "        for eps in tqdm(range(num_episodes)):\n",
        "            state = env.reset()\n",
        "            remaining_lives = 5\n",
        "            max_frames = 10000\n",
        "            shoot = True\n",
        "            state = torch.tensor(state, dtype=torch.float32, device=self.device).unsqueeze(0)\n",
        "            epsilon = max(self.min_epsilon, (self.max_epsilon - self.min_epsilon) * np.exp(-self.epsilon_decay * eps))\n",
        "            self.epsilons.append(epsilon)\n",
        "            total_reward = 0\n",
        "            C_count = 0\n",
        "\n",
        "            done = False\n",
        "            while done == False:\n",
        "                # PERFROM ACTION USING EPSILON GREEDY POLICY\n",
        "                action = self.epsilon_greedy_action(env, state, epsilon, shoot)\n",
        "                shoot = False\n",
        "                # TAKE STEP USING ACTION DERIVED ABOVE\n",
        "                observation, reward, terminated, info = env.step(action.item())\n",
        "                # print('observation: ',observation)\n",
        "                # print('reward: ',reward)\n",
        "                # print('terminated: ',terminated)\n",
        "                \n",
        "                # print('info: ',info)\n",
        "                # plt.imshow(observation[0])\n",
        "                frames.append(env.frame)\n",
        "                # if env.unwrapped.spec.id == 'MountainCar-v0':\n",
        "                #     reward = 100*((math.sin(3*observation[0]) * 0.025 + 0.7 * observation[1] * observation[1]) - (math.sin(3*state[0,0]) * 0.025 + 0.7 * state[0,1] * state[0,1]))\n",
        "\n",
        "                reward = torch.tensor([reward], device=self.device)\n",
        "\n",
        "                if remaining_lives!= info.get('lives'):\n",
        "                  remaining_lives -= 1\n",
        "                  shoot = True\n",
        "                  if remaining_lives == 0:\n",
        "                    terminated=True\n",
        "                    print('GAME OVER!!')\n",
        "\n",
        "                if info.get('episode_frame_number')>max_frames:\n",
        "                  print('MAX FRAMES PER EPISODE REACHED!!')\n",
        "                  terminated=True\n",
        "\n",
        "                terminated = torch.tensor([terminated], device=self.device)\n",
        "                done = terminated\n",
        "                total_reward += reward\n",
        "\n",
        "                if terminated and remaining_lives>0 and info.get('episode_frame_number')<max_frames:\n",
        "                  print('LEVEL COMPLETE!!!!!!!!!')\n",
        "\n",
        "                next_state = torch.tensor(observation, dtype=torch.float32, device=self.device).unsqueeze(0)\n",
        "\n",
        "                # Store transition in buffer\n",
        "                self.buffer.push(state, action, next_state, reward, terminated)\n",
        "\n",
        "                state = next_state\n",
        "                self.train_step()\n",
        "\n",
        "                C_count += 1\n",
        "\n",
        "                # SYNC NETWORKS USING SOFT UPDATES FOR EVERY C STEPS\n",
        "                if C_count == 10:\n",
        "\n",
        "                  C_count = 0\n",
        "                  # GET TARGET NETWORK WEIGHTS\n",
        "                  target_network_state_dict = self.target_network.state_dict()\n",
        "                  # GET PRIMARY NETWORK WEIGHTS\n",
        "                  policy_network_state_dict = self.policy_network.state_dict()\n",
        "                  for key in policy_network_state_dict:\n",
        "                      target_network_state_dict[key] = policy_network_state_dict[key]*self.tau + target_network_state_dict[key]*(1-self.tau)\n",
        "                  # UPDATE TARGET NETWORK\n",
        "                  self.target_network.load_state_dict(target_network_state_dict)\n",
        "\n",
        "                if done:\n",
        "                    break\n",
        "\n",
        "            self.rewards.append(total_reward)\n",
        "            print('Episode: ',eps,' Reward: ',total_reward)\n",
        "            \n",
        "\n",
        "        # SAVE NETWORK WEIGHTS\n",
        "        with open('DQN_Breakout.pkl', 'wb') as f:\n",
        "          pickle.dump(self.policy_network, f)\n",
        "        print('Training Finished')\n",
        "\n",
        "    def plot_rewards(self):\n",
        "        plt.xlabel('Episode')\n",
        "        plt.ylabel('Rewards')\n",
        "        plt.plot(self.rewards)\n",
        "\n",
        "    def evaluate(self, env, num_episodes):\n",
        "      episode_rewards = []\n",
        "      for episode in range(num_episodes):\n",
        "          state = env.reset()\n",
        "          episode_reward = 0\n",
        "          done = False\n",
        "          while not done:\n",
        "              with torch.no_grad():\n",
        "                  state_tensor = torch.FloatTensor(state).unsqueeze(0)\n",
        "                  q_values = self.target_network(state_tensor)\n",
        "                  action = q_values.max(1)[1].item()\n",
        "              next_state, reward, done, _ = env.step(action)\n",
        "              episode_reward += reward\n",
        "              state = next_state\n",
        "          episode_rewards.append(episode_reward)\n",
        "          print(\"Episode: {}, Reward: {}\".format(episode, episode_reward))\n",
        "      avg_reward = sum(episode_rewards) / num_episodes\n",
        "      print(\"Average reward over {} episodes: {}\".format(num_episodes, avg_reward))\n",
        "      plt.plot(episode_rewards)\n",
        "      plt.ylabel('Rewards')\n",
        "      plt.xlabel('Number of episodes')\n",
        "\n",
        "    def plot_decay(self):\n",
        "        plt.plot(self.epsilons)\n",
        "        plt.ylabel('Epsilon Value')\n",
        "        plt.xlabel('Episodes')\n",
        "        "
      ],
      "metadata": {
        "id": "LOXWojBK5TXN"
      },
      "execution_count": 7,
      "outputs": []
    },
    {
      "cell_type": "code",
      "source": [
        "env = gym.make(\"BreakoutNoFrameskip-v4\")\n",
        "# env = gym.make(\"BreakoutDeterministic-v4\")\n",
        "\n",
        "# Get number of actions from gym action space\n",
        "n_actions = env.action_space.n\n",
        "# Get the number of state observations\n",
        "state = env.reset()\n",
        "n_observations = len(state)\n",
        "\n",
        "\n",
        "env = FrameStackingAndResizingEnv(env, 84, 84, 4)\n",
        "\n",
        "obs = env.reset()\n",
        "print(obs.shape)\n",
        "\n",
        "\n",
        "# if gpu is to be used\n",
        "# device = torch.device('mps:0' if torch.backends.mps.is_available() else 'cpu')\n",
        "device = torch.device(\"cuda\" if torch.cuda.is_available() else \"cpu\")"
      ],
      "metadata": {
        "colab": {
          "base_uri": "https://localhost:8080/"
        },
        "id": "NahpfLHa5VEk",
        "outputId": "f987d4c3-fc6d-4f1f-aac9-bc393260f166"
      },
      "execution_count": 8,
      "outputs": [
        {
          "output_type": "stream",
          "name": "stdout",
          "text": [
            "(4, 84, 84)\n"
          ]
        }
      ]
    },
    {
      "cell_type": "code",
      "source": [
        "obs = env.reset()\n",
        "print('obs:',obs.shape)\n",
        "import matplotlib.pyplot as plt\n",
        "plt.imshow(obs[0])"
      ],
      "metadata": {
        "id": "AUKkhPxi5vkk",
        "colab": {
          "base_uri": "https://localhost:8080/",
          "height": 521
        },
        "outputId": "5aa597aa-5b23-43c4-a683-c2d237644369"
      },
      "execution_count": 9,
      "outputs": [
        {
          "output_type": "stream",
          "name": "stdout",
          "text": [
            "obs: (4, 84, 84)\n"
          ]
        },
        {
          "output_type": "stream",
          "name": "stderr",
          "text": [
            "/usr/local/lib/python3.10/dist-packages/ipykernel/ipkernel.py:283: DeprecationWarning: `should_run_async` will not call `transform_cell` automatically in the future. Please pass the result to `transformed_cell` argument and any exception that happen during thetransform in `preprocessing_exc_tuple` in IPython 7.17 and above.\n",
            "  and should_run_async(code)\n"
          ]
        },
        {
          "output_type": "execute_result",
          "data": {
            "text/plain": [
              "<matplotlib.image.AxesImage at 0x7f28819d8610>"
            ]
          },
          "metadata": {},
          "execution_count": 9
        },
        {
          "output_type": "display_data",
          "data": {
            "text/plain": [
              "<Figure size 640x480 with 1 Axes>"
            ],
            "image/png": "[encoded data removed]"
          },
          "metadata": {}
        }
      ]
    },
    {
      "cell_type": "code",
      "source": [
        "print(env.step(1))\n",
        "plt.imshow(obs[0])\n",
        "# print(f\"Info: {info}\")"
      ],
      "metadata": {
        "colab": {
          "base_uri": "https://localhost:8080/",
          "height": 977
        },
        "id": "9yoDhWHXX1K4",
        "outputId": "a1a80a7d-ed3b-43c3-cab4-0f1ae05c8dc8"
      },
      "execution_count": 10,
      "outputs": [
        {
          "output_type": "stream",
          "name": "stdout",
          "text": [
            "(array([[[0, 0, 0, ..., 0, 0, 0],\n",
            "        [0, 0, 0, ..., 0, 0, 0],\n",
            "        [0, 0, 0, ..., 0, 0, 0],\n",
            "        ...,\n",
            "        [0, 0, 0, ..., 0, 0, 0],\n",
            "        [0, 0, 0, ..., 0, 0, 0],\n",
            "        [0, 0, 0, ..., 0, 0, 0]],\n",
            "\n",
            "       [[0, 0, 0, ..., 0, 0, 0],\n",
            "        [0, 0, 0, ..., 0, 0, 0],\n",
            "        [0, 0, 0, ..., 0, 0, 0],\n",
            "        ...,\n",
            "        [0, 0, 0, ..., 0, 0, 0],\n",
            "        [0, 0, 0, ..., 0, 0, 0],\n",
            "        [0, 0, 0, ..., 0, 0, 0]],\n",
            "\n",
            "       [[0, 0, 0, ..., 0, 0, 0],\n",
            "        [0, 0, 0, ..., 0, 0, 0],\n",
            "        [0, 0, 0, ..., 0, 0, 0],\n",
            "        ...,\n",
            "        [0, 0, 0, ..., 0, 0, 0],\n",
            "        [0, 0, 0, ..., 0, 0, 0],\n",
            "        [0, 0, 0, ..., 0, 0, 0]],\n",
            "\n",
            "       [[0, 0, 0, ..., 0, 0, 0],\n",
            "        [0, 0, 0, ..., 0, 0, 0],\n",
            "        [0, 0, 0, ..., 0, 0, 0],\n",
            "        ...,\n",
            "        [0, 0, 0, ..., 0, 0, 0],\n",
            "        [0, 0, 0, ..., 0, 0, 0],\n",
            "        [0, 0, 0, ..., 0, 0, 0]]], dtype=uint8), 0.0, False, {'lives': 5, 'episode_frame_number': 1, 'frame_number': 1})\n"
          ]
        },
        {
          "output_type": "execute_result",
          "data": {
            "text/plain": [
              "<matplotlib.image.AxesImage at 0x7f287b6b54b0>"
            ]
          },
          "metadata": {},
          "execution_count": 10
        },
        {
          "output_type": "display_data",
          "data": {
            "text/plain": [
              "<Figure size 640x480 with 1 Axes>"
            ],
            "image/png": "[encoded data removed]"
          },
          "metadata": {}
        }
      ]
    },
    {
      "cell_type": "code",
      "source": [
        "obs = env.reset()\n",
        "obs = env.step(1)\n",
        "\n",
        "from IPython import display\n",
        "import time\n",
        "\n",
        "for i in range(10):\n",
        "    action = env.action_space.sample()\n",
        "    new_obs,_,_,info = env.step(action)\n",
        "    # print(new_obs.shape)\n",
        "    plt.imshow(new_obs[0])\n",
        "    # plt.pause(0.001) \n",
        "    # display.clear_output(wait=True)\n",
        "    # display.display(plt.gcf())\n",
        "    \n",
        "    plt.show()\n",
        "    #print(f\"Info: {info}\")\n",
        "    obs = new_obs\n",
        "    #time.sleep(3)\n",
        "\n"
      ],
      "metadata": {
        "id": "VfFQLMWKLEyP",
        "colab": {
          "base_uri": "https://localhost:8080/",
          "height": 1000
        },
        "outputId": "4abb7ccf-6379-4971-830a-9842eed35fb0"
      },
      "execution_count": 11,
      "outputs": [
        {
          "output_type": "display_data",
          "data": {
            "text/plain": [
              "<Figure size 640x480 with 1 Axes>"
            ],
            "image/png": "[encoded data removed]"
          },
          "metadata": {}
        },
        {
          "output_type": "display_data",
          "data": {
            "text/plain": [
              "<Figure size 640x480 with 1 Axes>"
            ],
            "image/png": "[encoded data removed]"
          },
          "metadata": {}
        },
        {
          "output_type": "display_data",
          "data": {
            "text/plain": [
              "<Figure size 640x480 with 1 Axes>"
            ],
            "image/png": "[encoded data removed]"
          },
          "metadata": {}
        },
        {
          "output_type": "display_data",
          "data": {
            "text/plain": [
              "<Figure size 640x480 with 1 Axes>"
            ],
            "image/png": "[encoded data removed]"
          },
          "metadata": {}
        },
        {
          "output_type": "display_data",
          "data": {
            "text/plain": [
              "<Figure size 640x480 with 1 Axes>"
            ],
            "image/png": "[encoded data removed]"
          },
          "metadata": {}
        },
        {
          "output_type": "display_data",
          "data": {
            "text/plain": [
              "<Figure size 640x480 with 1 Axes>"
            ],
            "image/png": "[encoded data removed]"
          },
          "metadata": {}
        },
        {
          "output_type": "display_data",
          "data": {
            "text/plain": [
              "<Figure size 640x480 with 1 Axes>"
            ],
            "image/png": "[encoded data removed]"
          },
          "metadata": {}
        },
        {
          "output_type": "display_data",
          "data": {
            "text/plain": [
              "<Figure size 640x480 with 1 Axes>"
            ],
            "image/png": "[encoded data removed]"
          },
          "metadata": {}
        },
        {
          "output_type": "display_data",
          "data": {
            "text/plain": [
              "<Figure size 640x480 with 1 Axes>"
            ],
            "image/png": "[encoded data removed]"
          },
          "metadata": {}
        },
        {
          "output_type": "display_data",
          "data": {
            "text/plain": [
              "<Figure size 640x480 with 1 Axes>"
            ],
            "image/png": "[encoded data removed]"
          },
          "metadata": {}
        }
      ]
    },
    {
      "cell_type": "code",
      "source": [
        "max_epsilon = 1.0\n",
        "min_epsilon = 0.01\n",
        "epsilon_decay = 0.05\n",
        "batch_size = 128\n",
        "decay_factor = 0.99\n",
        "tau = 0.005\n",
        "alpha = 0.001\n",
        "no_of_episodes = 100\n",
        "\n",
        "agent = DQNAgent(n_observations, n_actions, max_epsilon, epsilon_decay, min_epsilon, batch_size, decay_factor, tau, alpha)\n",
        "agent.train(env, no_of_episodes)\n"
      ],
      "metadata": {
        "colab": {
          "base_uri": "https://localhost:8080/",
          "height": 1000,
          "referenced_widgets": [
            "864723d214374665bc3d2cf737800e23",
            "58539003d6ed4ab3ba8fb76395926f9d",
            "4ad15eb016634d61a1ee62ae2525029c",
            "40def3bf66224138846ad8cd2a39cd26",
            "d451487e663e485ab2b4da547918cc9e",
            "a31dfd8ce0b5496ba80a52c555d3d0dc",
            "9e15df964db140408b2a683062d96dd8",
            "1b3fc77021e84e3db07fdf0523c4c2f4",
            "6ff8b208cc974fe7ab7b8c2a47b37d99",
            "27c172b34ff54c399e69f1db74d72a7f",
            "00e3055d8a9c41dbb78e2a047763292d"
          ]
        },
        "id": "Z3A7p7ehZm3R",
        "outputId": "61b28b8b-6c6f-49fb-ee67-6af7d276b98e"
      },
      "execution_count": 12,
      "outputs": [
        {
          "output_type": "display_data",
          "data": {
            "text/plain": [
              "  0%|          | 0/100 [00:00<?, ?it/s]"
            ],
            "application/vnd.jupyter.widget-view+json": {
              "version_major": 2,
              "version_minor": 0,
              "model_id": "864723d214374665bc3d2cf737800e23"
            }
          },
          "metadata": {}
        },
        {
          "output_type": "stream",
          "name": "stdout",
          "text": [
            "GAME OVER!!\n",
            "Episode:  0  Reward:  tensor([2.], device='cuda:0')\n",
            "GAME OVER!!\n",
            "Episode:  1  Reward:  tensor([0.], device='cuda:0')\n",
            "GAME OVER!!\n",
            "Episode:  2  Reward:  tensor([2.], device='cuda:0')\n",
            "GAME OVER!!\n",
            "Episode:  3  Reward:  tensor([2.], device='cuda:0')\n",
            "GAME OVER!!\n",
            "Episode:  4  Reward:  tensor([4.], device='cuda:0')\n",
            "GAME OVER!!\n",
            "Episode:  5  Reward:  tensor([2.], device='cuda:0')\n",
            "GAME OVER!!\n",
            "Episode:  6  Reward:  tensor([2.], device='cuda:0')\n",
            "GAME OVER!!\n",
            "Episode:  7  Reward:  tensor([1.], device='cuda:0')\n",
            "GAME OVER!!\n",
            "Episode:  8  Reward:  tensor([0.], device='cuda:0')\n",
            "GAME OVER!!\n",
            "Episode:  9  Reward:  tensor([0.], device='cuda:0')\n",
            "GAME OVER!!\n",
            "Episode:  10  Reward:  tensor([2.], device='cuda:0')\n",
            "GAME OVER!!\n",
            "Episode:  11  Reward:  tensor([0.], device='cuda:0')\n",
            "GAME OVER!!\n",
            "Episode:  12  Reward:  tensor([2.], device='cuda:0')\n",
            "GAME OVER!!\n",
            "Episode:  13  Reward:  tensor([1.], device='cuda:0')\n",
            "GAME OVER!!\n",
            "Episode:  14  Reward:  tensor([2.], device='cuda:0')\n",
            "GAME OVER!!\n",
            "Episode:  15  Reward:  tensor([1.], device='cuda:0')\n",
            "GAME OVER!!\n",
            "Episode:  16  Reward:  tensor([2.], device='cuda:0')\n",
            "GAME OVER!!\n",
            "Episode:  17  Reward:  tensor([4.], device='cuda:0')\n",
            "GAME OVER!!\n",
            "Episode:  18  Reward:  tensor([0.], device='cuda:0')\n",
            "GAME OVER!!\n",
            "Episode:  19  Reward:  tensor([0.], device='cuda:0')\n",
            "GAME OVER!!\n",
            "Episode:  20  Reward:  tensor([1.], device='cuda:0')\n",
            "GAME OVER!!\n",
            "Episode:  21  Reward:  tensor([2.], device='cuda:0')\n",
            "GAME OVER!!\n",
            "Episode:  22  Reward:  tensor([3.], device='cuda:0')\n",
            "GAME OVER!!\n",
            "Episode:  23  Reward:  tensor([1.], device='cuda:0')\n",
            "GAME OVER!!\n",
            "Episode:  24  Reward:  tensor([2.], device='cuda:0')\n",
            "GAME OVER!!\n",
            "Episode:  25  Reward:  tensor([2.], device='cuda:0')\n",
            "GAME OVER!!\n",
            "Episode:  26  Reward:  tensor([1.], device='cuda:0')\n",
            "GAME OVER!!\n",
            "Episode:  27  Reward:  tensor([0.], device='cuda:0')\n",
            "GAME OVER!!\n",
            "Episode:  28  Reward:  tensor([0.], device='cuda:0')\n",
            "GAME OVER!!\n",
            "Episode:  29  Reward:  tensor([0.], device='cuda:0')\n",
            "GAME OVER!!\n",
            "Episode:  30  Reward:  tensor([1.], device='cuda:0')\n",
            "GAME OVER!!\n",
            "Episode:  31  Reward:  tensor([2.], device='cuda:0')\n",
            "GAME OVER!!\n",
            "Episode:  32  Reward:  tensor([0.], device='cuda:0')\n",
            "GAME OVER!!\n",
            "Episode:  33  Reward:  tensor([2.], device='cuda:0')\n",
            "GAME OVER!!\n",
            "Episode:  34  Reward:  tensor([2.], device='cuda:0')\n",
            "GAME OVER!!\n",
            "Episode:  35  Reward:  tensor([3.], device='cuda:0')\n",
            "GAME OVER!!\n",
            "Episode:  36  Reward:  tensor([0.], device='cuda:0')\n",
            "GAME OVER!!\n",
            "Episode:  37  Reward:  tensor([3.], device='cuda:0')\n",
            "GAME OVER!!\n",
            "Episode:  38  Reward:  tensor([0.], device='cuda:0')\n",
            "GAME OVER!!\n",
            "Episode:  39  Reward:  tensor([1.], device='cuda:0')\n",
            "GAME OVER!!\n",
            "Episode:  40  Reward:  tensor([1.], device='cuda:0')\n",
            "GAME OVER!!\n",
            "Episode:  41  Reward:  tensor([0.], device='cuda:0')\n",
            "GAME OVER!!\n",
            "Episode:  42  Reward:  tensor([0.], device='cuda:0')\n",
            "GAME OVER!!\n",
            "Episode:  43  Reward:  tensor([2.], device='cuda:0')\n",
            "GAME OVER!!\n",
            "Episode:  44  Reward:  tensor([0.], device='cuda:0')\n",
            "GAME OVER!!\n",
            "Episode:  45  Reward:  tensor([4.], device='cuda:0')\n",
            "GAME OVER!!\n",
            "Episode:  46  Reward:  tensor([0.], device='cuda:0')\n",
            "GAME OVER!!\n",
            "Episode:  47  Reward:  tensor([0.], device='cuda:0')\n",
            "GAME OVER!!\n",
            "Episode:  48  Reward:  tensor([0.], device='cuda:0')\n",
            "GAME OVER!!\n",
            "Episode:  49  Reward:  tensor([1.], device='cuda:0')\n",
            "GAME OVER!!\n",
            "Episode:  50  Reward:  tensor([2.], device='cuda:0')\n",
            "GAME OVER!!\n",
            "Episode:  51  Reward:  tensor([1.], device='cuda:0')\n",
            "GAME OVER!!\n",
            "Episode:  52  Reward:  tensor([3.], device='cuda:0')\n",
            "GAME OVER!!\n",
            "Episode:  53  Reward:  tensor([1.], device='cuda:0')\n",
            "GAME OVER!!\n",
            "Episode:  54  Reward:  tensor([0.], device='cuda:0')\n",
            "GAME OVER!!\n",
            "Episode:  55  Reward:  tensor([1.], device='cuda:0')\n",
            "GAME OVER!!\n",
            "Episode:  56  Reward:  tensor([2.], device='cuda:0')\n",
            "GAME OVER!!\n",
            "Episode:  57  Reward:  tensor([1.], device='cuda:0')\n",
            "GAME OVER!!\n",
            "Episode:  58  Reward:  tensor([3.], device='cuda:0')\n",
            "GAME OVER!!\n",
            "Episode:  59  Reward:  tensor([0.], device='cuda:0')\n",
            "GAME OVER!!\n",
            "Episode:  60  Reward:  tensor([0.], device='cuda:0')\n",
            "GAME OVER!!\n",
            "Episode:  61  Reward:  tensor([0.], device='cuda:0')\n",
            "GAME OVER!!\n",
            "Episode:  62  Reward:  tensor([0.], device='cuda:0')\n",
            "GAME OVER!!\n",
            "Episode:  63  Reward:  tensor([0.], device='cuda:0')\n",
            "GAME OVER!!\n",
            "Episode:  64  Reward:  tensor([0.], device='cuda:0')\n",
            "GAME OVER!!\n",
            "Episode:  65  Reward:  tensor([0.], device='cuda:0')\n",
            "GAME OVER!!\n",
            "Episode:  66  Reward:  tensor([0.], device='cuda:0')\n",
            "GAME OVER!!\n",
            "Episode:  67  Reward:  tensor([0.], device='cuda:0')\n",
            "GAME OVER!!\n",
            "Episode:  68  Reward:  tensor([0.], device='cuda:0')\n",
            "GAME OVER!!\n",
            "Episode:  69  Reward:  tensor([1.], device='cuda:0')\n",
            "GAME OVER!!\n",
            "Episode:  70  Reward:  tensor([0.], device='cuda:0')\n",
            "GAME OVER!!\n",
            "Episode:  71  Reward:  tensor([0.], device='cuda:0')\n",
            "GAME OVER!!\n",
            "Episode:  72  Reward:  tensor([0.], device='cuda:0')\n",
            "GAME OVER!!\n",
            "Episode:  73  Reward:  tensor([0.], device='cuda:0')\n",
            "GAME OVER!!\n",
            "Episode:  74  Reward:  tensor([0.], device='cuda:0')\n",
            "GAME OVER!!\n",
            "Episode:  75  Reward:  tensor([0.], device='cuda:0')\n",
            "GAME OVER!!\n",
            "Episode:  76  Reward:  tensor([0.], device='cuda:0')\n",
            "GAME OVER!!\n",
            "Episode:  77  Reward:  tensor([0.], device='cuda:0')\n",
            "GAME OVER!!\n",
            "Episode:  78  Reward:  tensor([0.], device='cuda:0')\n",
            "GAME OVER!!\n",
            "Episode:  79  Reward:  tensor([0.], device='cuda:0')\n",
            "GAME OVER!!\n",
            "Episode:  80  Reward:  tensor([0.], device='cuda:0')\n",
            "GAME OVER!!\n",
            "Episode:  81  Reward:  tensor([0.], device='cuda:0')\n",
            "GAME OVER!!\n",
            "Episode:  82  Reward:  tensor([0.], device='cuda:0')\n",
            "GAME OVER!!\n",
            "Episode:  83  Reward:  tensor([0.], device='cuda:0')\n",
            "GAME OVER!!\n",
            "Episode:  84  Reward:  tensor([0.], device='cuda:0')\n",
            "GAME OVER!!\n",
            "Episode:  85  Reward:  tensor([0.], device='cuda:0')\n",
            "GAME OVER!!\n",
            "Episode:  86  Reward:  tensor([0.], device='cuda:0')\n",
            "GAME OVER!!\n",
            "Episode:  87  Reward:  tensor([0.], device='cuda:0')\n",
            "GAME OVER!!\n",
            "Episode:  88  Reward:  tensor([0.], device='cuda:0')\n",
            "GAME OVER!!\n",
            "Episode:  89  Reward:  tensor([1.], device='cuda:0')\n",
            "GAME OVER!!\n",
            "Episode:  90  Reward:  tensor([0.], device='cuda:0')\n",
            "GAME OVER!!\n",
            "Episode:  91  Reward:  tensor([0.], device='cuda:0')\n",
            "GAME OVER!!\n",
            "Episode:  92  Reward:  tensor([0.], device='cuda:0')\n",
            "GAME OVER!!\n",
            "Episode:  93  Reward:  tensor([0.], device='cuda:0')\n",
            "GAME OVER!!\n",
            "Episode:  94  Reward:  tensor([4.], device='cuda:0')\n",
            "GAME OVER!!\n",
            "Episode:  95  Reward:  tensor([1.], device='cuda:0')\n",
            "GAME OVER!!\n",
            "Episode:  96  Reward:  tensor([0.], device='cuda:0')\n",
            "GAME OVER!!\n",
            "Episode:  97  Reward:  tensor([0.], device='cuda:0')\n",
            "GAME OVER!!\n",
            "Episode:  98  Reward:  tensor([1.], device='cuda:0')\n",
            "GAME OVER!!\n",
            "Episode:  99  Reward:  tensor([3.], device='cuda:0')\n",
            "Training Finished\n"
          ]
        }
      ]
    },
    {
      "cell_type": "code",
      "source": [
        "rew = [r.cpu().numpy() for r in agent.rewards]"
      ],
      "metadata": {
        "id": "6Tjj-YftAiEZ"
      },
      "execution_count": 13,
      "outputs": []
    },
    {
      "cell_type": "code",
      "source": [
        "plt.xlabel('Episode')\n",
        "plt.ylabel('Rewards')\n",
        "plt.plot(rew)"
      ],
      "metadata": {
        "colab": {
          "base_uri": "https://localhost:8080/",
          "height": 466
        },
        "id": "DRgE_g1rBAsj",
        "outputId": "02259cb4-1436-4459-affa-d55dd9c8a5ba"
      },
      "execution_count": 14,
      "outputs": [
        {
          "output_type": "execute_result",
          "data": {
            "text/plain": [
              "[<matplotlib.lines.Line2D at 0x7f2879421f30>]"
            ]
          },
          "metadata": {},
          "execution_count": 14
        },
        {
          "output_type": "display_data",
          "data": {
            "text/plain": [
              "<Figure size 640x480 with 1 Axes>"
            ],
            "image/png": "[encoded data removed]"
          },
          "metadata": {}
        }
      ]
    },
    {
      "cell_type": "code",
      "source": [
        "agent.plot_decay()"
      ],
      "metadata": {
        "id": "uPqPiCh7ZNUV",
        "colab": {
          "base_uri": "https://localhost:8080/",
          "height": 449
        },
        "outputId": "0b48b22f-8b96-473b-9a77-8992c500cde5"
      },
      "execution_count": 15,
      "outputs": [
        {
          "output_type": "display_data",
          "data": {
            "text/plain": [
              "<Figure size 640x480 with 1 Axes>"
            ],
            "image/png": "[encoded data removed]"
          },
          "metadata": {}
        }
      ]
    }
  ]
}